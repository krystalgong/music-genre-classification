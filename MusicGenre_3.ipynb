{
 "cells": [
  {
   "cell_type": "code",
   "execution_count": 1,
   "metadata": {},
   "outputs": [],
   "source": [
    "import os\n",
    "import h5py\n",
    "import numpy as np\n",
    "import torch\n",
    "import torch.nn as nn\n",
    "import torch.optim as optim\n",
    "import torch.nn.functional as F\n",
    "from torch import Tensor\n",
    "import matplotlib.pyplot as plt"
   ]
  },
  {
   "cell_type": "code",
   "execution_count": 2,
   "metadata": {},
   "outputs": [],
   "source": [
    "def file_name(file_dir):   \n",
    "    L=[]   \n",
    "    for root, dirs, files in os.walk(file_dir):  \n",
    "        for file in files:  \n",
    "            if os.path.splitext(file)[1] == '.h5':\n",
    "                L.append(os.path.join(root, file)[29:-3])  \n",
    "    return L # file name = id"
   ]
  },
  {
   "cell_type": "code",
   "execution_count": 3,
   "metadata": {},
   "outputs": [],
   "source": [
    "def open_genre_1(lst):\n",
    "    f = open('genre.txt','r')\n",
    "    dic = {}\n",
    "    Set = []\n",
    "    id_genre = {}\n",
    "    for i in f.readlines():\n",
    "        content = i.split()\n",
    "        content[-1] = content[-1][:-1]\n",
    "        if len(content) == 3:\n",
    "            content[1] = content[1]+\" \"+content[2]\n",
    "        if len(content) == 1:\n",
    "            continue\n",
    "        dic[content[0]] = content[1]\n",
    "        Set.append(content[1])\n",
    "    genre = list(set(Set))\n",
    "    # print(genre)\n",
    "    # print(len(set(Set)))\n",
    "    number = [0]*15\n",
    "    for j in lst:\n",
    "        if j in dic:\n",
    "            id_genre[j] = dic[j]\n",
    "    for m in id_genre:\n",
    "        number[genre.index(id_genre[m])] +=1\n",
    "    # print(number)\n",
    "    # print(sum(number))\n",
    "    return id_genre, genre"
   ]
  },
  {
   "cell_type": "code",
   "execution_count": 4,
   "metadata": {},
   "outputs": [],
   "source": [
    "def open_genre_2(lst,id_genre):\n",
    "    g = open('newgenre.txt','r')\n",
    "    dic2 = {}\n",
    "    # Set2 = []\n",
    "    for k in g.readlines():\n",
    "        content = k.split()\n",
    "        if len(content) == 3:\n",
    "            content[1] = content[1]+\" \"+content[2]\n",
    "        if len(content) == 1:\n",
    "            continue\n",
    "        dic2[content[0]] = content[1]\n",
    "    #     Set2.append(content[1])\n",
    "    # genre2 = list(set(Set2))\n",
    "    # print(genre2)\n",
    "    # print(len(set(Set2)))\n",
    "    for item in lst:\n",
    "        if (item not in id_genre) and (item in dic2) and dic2[item] != \"Pop_Rock\" and dic2[item] != \"International\" and dic2[item] != \"Vocal\":\n",
    "            id_genre[item] = dic2[item]\n",
    "    # print(len(id_genre))\n",
    "    return id_genre"
   ]
  },
  {
   "cell_type": "code",
   "execution_count": 5,
   "metadata": {},
   "outputs": [],
   "source": [
    "def data_pre_process(updated_id_genre):\n",
    "    processed_data = {}\n",
    "    x = []\n",
    "    y = []\n",
    "    lenlist = []\n",
    "    for k,v in updated_id_genre.items():\n",
    "        lst = []\n",
    "        for root, dirs, files in os.walk(\"MillionSongSubset/data\"):\n",
    "            for file in files:\n",
    "                if os.path.splitext(file)[0] == k:\n",
    "                    f = h5py.File(os.path.join(root, file), 'r')\n",
    "                    for i in f['analysis'][\"segments_timbre\"]:\n",
    "                        for m in list(i):\n",
    "                            lst.append(m)\n",
    "        if len(lst)>=4800:\n",
    "            Array = np.array(lst[:4800])\n",
    "            processed_data[k] = [v,Array]\n",
    "            x.append(Array)\n",
    "            y.append(v)\n",
    "    return processed_data, x, y"
   ]
  },
  {
   "cell_type": "code",
   "execution_count": 6,
   "metadata": {},
   "outputs": [
    {
     "name": "stdout",
     "output_type": "stream",
     "text": [
      "3396\n"
     ]
    }
   ],
   "source": [
    "lst = file_name(\"MillionSongSubset/data\")\n",
    "\n",
    "id_genre, genre = open_genre_1(lst)\n",
    "# genre = ['Rock', 'Country', 'New Age', 'Jazz', 'Folk', 'Blues', 'Pop', 'Metal', 'World', 'Reggae', 'Electronic', 'Punk', 'Rap', 'RnB', 'Latin']\n",
    "updated_id_genre = open_genre_2(lst,id_genre)\n",
    "print(len(updated_id_genre))"
   ]
  },
  {
   "cell_type": "code",
   "execution_count": 7,
   "metadata": {},
   "outputs": [
    {
     "name": "stdout",
     "output_type": "stream",
     "text": [
      "3190\n",
      "3190\n"
     ]
    }
   ],
   "source": [
    "processed_data, x, y= data_pre_process(updated_id_genre)\n",
    "print(len(processed_data))\n",
    "print(len(x))"
   ]
  },
  {
   "cell_type": "code",
   "execution_count": 65,
   "metadata": {},
   "outputs": [],
   "source": [
    "X_all = np.array(x).reshape(3190,1,400,12)\n",
    "# X_all = np.array(x).reshape(3190,12,20,20)\n",
    "# for i in range(len(y)):\n",
    "#     y[i] = genre.index(y[i])\n",
    "y_all = np.array(y)\n",
    "X_train = X_all[:1500]\n",
    "y_train = y_all[:1500]\n",
    "X_val = X_all[1500:1690]\n",
    "y_val = y_all[1500:1690]\n",
    "X_test = X_all[1690:]\n",
    "y_test = y_all[1690:]"
   ]
  },
  {
   "cell_type": "code",
   "execution_count": 70,
   "metadata": {},
   "outputs": [],
   "source": [
    "class ConvNet(nn.Module):\n",
    " \n",
    "    def __init__(self):\n",
    "        super(ConvNet, self).__init__()\n",
    "        self.conv1 = nn.Conv2d(1,16,3,padding = 1)\n",
    "        self.conv2 = nn.Conv2d(16,32,3,padding = 1)\n",
    "        self.conv3 = nn.Conv2d(32,64,3)\n",
    "        self.fc1 = nn.Linear(64*98,1000)\n",
    "        self.fc2 = nn.Linear(1000, 240)\n",
    "        self.fc3 = nn.Linear(240,15)\n",
    "\n",
    "    def forward(self, x):\n",
    "        x = F.max_pool2d(F.relu(self.conv1(x)), 2)\n",
    "        x = F.max_pool2d(F.relu(self.conv2(x)), 2)\n",
    "        x = self.conv3(x)\n",
    "        x = x.view(-1, self.num_flat_features(x))\n",
    "        x = F.relu(self.fc1(x))\n",
    "        x = F.relu(self.fc2(x))\n",
    "        x = self.fc3(x)\n",
    "        return x\n",
    "    \n",
    "    def num_flat_features(self, x):\n",
    "        size = x.size()[1:]  # all dimensions except the batch dimension\n",
    "        num_features = 1\n",
    "        for s in size:\n",
    "            num_features *= s\n",
    "        return num_features\n",
    "    \n",
    "#     def __init__(self):\n",
    "#         super(ConvNet, self).__init__()\n",
    "#         self.conv1 = nn.Conv2d(12, 32, 3, 1, 1) \n",
    "#         self.conv2 = nn.Conv2d(32, 64, 3, 1, 1)\n",
    "#         self.fc1 = nn.Linear(64 * 20 * 20, 128)\n",
    "#         self.fc2 = nn.Linear(128, 32)\n",
    "#         self.fc3 = nn.Linear(32, 15)\n",
    "#         #Three linear layers\n",
    "\n",
    "#     def forward(self, x):\n",
    "#         x = F.relu(self.conv1(x))\n",
    "#         x = F.relu(self.conv2(x))\n",
    "#         x  = x.view(-1,64 * 20 * 20)\n",
    "#         x = F.relu(self.fc1(x))\n",
    "#         x = F.relu(self.fc2(x))\n",
    "#         x = self.fc3(x)\n",
    "#         return x"
   ]
  },
  {
   "cell_type": "code",
   "execution_count": 71,
   "metadata": {},
   "outputs": [
    {
     "name": "stdout",
     "output_type": "stream",
     "text": [
      "model structure:  ConvNet(\n",
      "  (conv1): Conv2d(1, 16, kernel_size=(3, 3), stride=(1, 1), padding=(1, 1))\n",
      "  (conv2): Conv2d(16, 32, kernel_size=(3, 3), stride=(1, 1), padding=(1, 1))\n",
      "  (conv3): Conv2d(32, 64, kernel_size=(3, 3), stride=(1, 1))\n",
      "  (fc1): Linear(in_features=6272, out_features=1000, bias=True)\n",
      "  (fc2): Linear(in_features=1000, out_features=240, bias=True)\n",
      "  (fc3): Linear(in_features=240, out_features=15, bias=True)\n",
      ")\n",
      "X train tensor shape: torch.Size([1500, 1, 400, 12])\n"
     ]
    }
   ],
   "source": [
    "# init network\n",
    "conv_net = ConvNet()\n",
    "print('model structure: ', conv_net)\n",
    "# init optimizer\n",
    "optimizer = optim.Adam(conv_net.parameters(), lr=0.001, weight_decay=1e-5)\n",
    "# set loss function\n",
    "criterion = nn.CrossEntropyLoss()\n",
    "\n",
    "# prepare for mini-batch stochastic gradient descent\n",
    "n_iteration = 25\n",
    "batch_size = 64\n",
    "n_data = X_train.shape[0]\n",
    "n_batch = int(np.ceil(n_data/batch_size))\n",
    "\n",
    "# convert X_train and X_val to tensor and flatten them\n",
    "X_train_tensor = torch.Tensor(X_train)\n",
    "X_val_tensor = torch.Tensor(X_val)\n",
    "\n",
    "# convert training label to tensor and to type long\n",
    "y_train_tensor = torch.Tensor(y_train).long()\n",
    "y_val_tensor = torch.Tensor(y_val).long()\n",
    "\n",
    "print('X train tensor shape:', X_train_tensor.shape)"
   ]
  },
  {
   "cell_type": "code",
   "execution_count": 72,
   "metadata": {},
   "outputs": [],
   "source": [
    "def get_correct_and_accuracy(y_pred, y):\n",
    "    # y_pred is the nxC prediction scores\n",
    "    # give the number of correct and the accuracy\n",
    "    n = y.shape[0]\n",
    "    # find the prediction class label\n",
    "    _ ,pred_class = y_pred.max(dim=1)\n",
    "    correct = (pred_class == y).sum().item()\n",
    "    return correct ,correct/n"
   ]
  },
  {
   "cell_type": "code",
   "execution_count": 73,
   "metadata": {},
   "outputs": [
    {
     "name": "stdout",
     "output_type": "stream",
     "text": [
      "Iter 0 ,Train loss: 5.336, Train acc: 0.265, Val loss: 2.305, Val acc: 0.374\n",
      "Iter 1 ,Train loss: 1.989, Train acc: 0.421, Val loss: 2.009, Val acc: 0.458\n",
      "Iter 2 ,Train loss: 1.751, Train acc: 0.464, Val loss: 1.931, Val acc: 0.442\n",
      "Iter 3 ,Train loss: 1.528, Train acc: 0.519, Val loss: 1.909, Val acc: 0.463\n",
      "Iter 4 ,Train loss: 1.266, Train acc: 0.595, Val loss: 1.989, Val acc: 0.474\n",
      "Iter 5 ,Train loss: 0.943, Train acc: 0.713, Val loss: 2.142, Val acc: 0.411\n",
      "Iter 6 ,Train loss: 0.703, Train acc: 0.793, Val loss: 1.979, Val acc: 0.484\n",
      "Iter 7 ,Train loss: 0.573, Train acc: 0.821, Val loss: 2.105, Val acc: 0.395\n",
      "Iter 8 ,Train loss: 0.376, Train acc: 0.903, Val loss: 2.852, Val acc: 0.311\n",
      "Iter 9 ,Train loss: 0.248, Train acc: 0.939, Val loss: 3.615, Val acc: 0.368\n",
      "Iter 10 ,Train loss: 0.187, Train acc: 0.947, Val loss: 3.066, Val acc: 0.358\n",
      "Iter 11 ,Train loss: 0.119, Train acc: 0.971, Val loss: 3.583, Val acc: 0.453\n",
      "Iter 12 ,Train loss: 0.117, Train acc: 0.964, Val loss: 3.556, Val acc: 0.463\n",
      "Iter 13 ,Train loss: 0.072, Train acc: 0.984, Val loss: 3.943, Val acc: 0.384\n",
      "Iter 14 ,Train loss: 0.029, Train acc: 0.991, Val loss: 3.188, Val acc: 0.416\n",
      "Iter 15 ,Train loss: 0.020, Train acc: 0.995, Val loss: 3.424, Val acc: 0.437\n",
      "Iter 16 ,Train loss: 0.020, Train acc: 0.999, Val loss: 3.751, Val acc: 0.405\n",
      "Iter 17 ,Train loss: 0.014, Train acc: 0.997, Val loss: 3.468, Val acc: 0.442\n",
      "Iter 18 ,Train loss: 0.004, Train acc: 1.000, Val loss: 3.623, Val acc: 0.432\n",
      "Iter 19 ,Train loss: 0.002, Train acc: 1.000, Val loss: 3.602, Val acc: 0.447\n",
      "Iter 20 ,Train loss: 0.001, Train acc: 1.000, Val loss: 3.644, Val acc: 0.437\n",
      "Iter 21 ,Train loss: 0.001, Train acc: 1.000, Val loss: 3.666, Val acc: 0.432\n",
      "Iter 22 ,Train loss: 0.001, Train acc: 1.000, Val loss: 3.694, Val acc: 0.442\n",
      "Iter 23 ,Train loss: 0.001, Train acc: 1.000, Val loss: 3.718, Val acc: 0.442\n",
      "Iter 24 ,Train loss: 0.001, Train acc: 1.000, Val loss: 3.739, Val acc: 0.437\n"
     ]
    }
   ],
   "source": [
    "train_loss_list = np.zeros(n_iteration)\n",
    "train_accu_list = np.zeros(n_iteration)\n",
    "val_loss_list = np.zeros(n_iteration)\n",
    "val_accu_list = np.zeros(n_iteration)\n",
    "for i in range(n_iteration):\n",
    "    # first get a minibatch of data\n",
    "    running_loss = 0\n",
    "    correct_train = 0\n",
    "    for j in range(n_batch):\n",
    "        batch_start_index = j*batch_size\n",
    "        # get data batch from the normalized data\n",
    "        X_batch = X_train_tensor[batch_start_index:batch_start_index+batch_size]\n",
    "        # get ground truth label y\n",
    "        y_batch = y_train_tensor[batch_start_index:batch_start_index+batch_size]\n",
    "        pred = conv_net(X_batch)\n",
    "        loss = criterion(pred, y_batch)\n",
    "        running_loss += loss.item()\n",
    "        correct_train += get_correct_and_accuracy(pred, y_batch)[0]\n",
    "        # update \n",
    "        optimizer.zero_grad()\n",
    "        loss.backward()\n",
    "        optimizer.step()\n",
    "        \n",
    "    ave_train_loss = running_loss / n_batch\n",
    "    pred_val = conv_net(X_val_tensor)\n",
    "    loss_val = criterion(pred_val, y_val_tensor)\n",
    "    val_loss = loss_val\n",
    "    train_accu = correct_train/float(n_data)\n",
    "    val_accu =  get_correct_and_accuracy(pred_val, y_val_tensor)[1]\n",
    "\n",
    "    print(\"Iter %d ,Train loss: %.3f, Train acc: %.3f, Val loss: %.3f, Val acc: %.3f\" \n",
    "          %(i ,ave_train_loss, train_accu, val_loss, val_accu)) \n",
    "    ## add to the logs so that we can use them later for plotting\n",
    "    train_loss_list[i] = ave_train_loss\n",
    "    train_accu_list[i] = train_accu\n",
    "    val_loss_list[i] = val_loss\n",
    "    val_accu_list[i] = val_accu"
   ]
  },
  {
   "cell_type": "code",
   "execution_count": 74,
   "metadata": {},
   "outputs": [
    {
     "name": "stdout",
     "output_type": "stream",
     "text": [
      "Test accuracy:  0.24733333333333332\n"
     ]
    }
   ],
   "source": [
    "X_test_tensor = torch.Tensor(X_test)\n",
    "y_test_tensor = torch.Tensor(y_test).long()\n",
    "pred = conv_net(X_test_tensor)\n",
    "correct_train = get_correct_and_accuracy(pred, y_test_tensor)[1]\n",
    "print(\"Test accuracy: \", correct_train)"
   ]
  },
  {
   "cell_type": "code",
   "execution_count": 75,
   "metadata": {},
   "outputs": [
    {
     "data": {
      "image/png": "[encoded data removed]",
      "text/plain": [
       "<Figure size 432x288 with 1 Axes>"
      ]
     },
     "metadata": {
      "needs_background": "light"
     },
     "output_type": "display_data"
    }
   ],
   "source": [
    "import matplotlib.pyplot as plt\n",
    "x_axis = np.arange(n_iteration)\n",
    "plt.plot(x_axis, train_loss_list, label='train loss')\n",
    "plt.plot(x_axis, val_loss_list, label='val loss')\n",
    "plt.legend()\n",
    "plt.show()"
   ]
  },
  {
   "cell_type": "code",
   "execution_count": 76,
   "metadata": {},
   "outputs": [
    {
     "data": {
      "image/png": "[encoded data removed]",
      "text/plain": [
       "<Figure size 432x288 with 1 Axes>"
      ]
     },
     "metadata": {
      "needs_background": "light"
     },
     "output_type": "display_data"
    }
   ],
   "source": [
    "plt.plot(x_axis, train_accu_list, label='train acc')\n",
    "plt.plot(x_axis, val_accu_list, label='val acc')\n",
    "plt.legend()\n",
    "plt.show()"
   ]
  }
 ],
 "metadata": {
  "kernelspec": {
   "display_name": "Python 3",
   "language": "python",
   "name": "python3"
  },
  "language_info": {
   "codemirror_mode": {
    "name": "ipython",
    "version": 3
   },
   "file_extension": ".py",
   "mimetype": "text/x-python",
   "name": "python",
   "nbconvert_exporter": "python",
   "pygments_lexer": "ipython3",
   "version": "3.7.4"
  }
 },
 "nbformat": 4,
 "nbformat_minor": 4
}
